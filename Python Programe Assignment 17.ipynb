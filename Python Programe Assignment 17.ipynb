{
 "cells": [
  {
   "cell_type": "code",
   "execution_count": 1,
   "id": "7a7fd583-e40b-46c5-9b59-8529b30a28d5",
   "metadata": {},
   "outputs": [
    {
     "name": "stdout",
     "output_type": "stream",
     "text": [
      "(1, 10, 20) ➞ 0\n",
      "(1, 10, 2) ➞ 30\n",
      "(1, 10, 3) ➞ 18\n"
     ]
    }
   ],
   "source": [
    "#1. Create a function that takes three arguments a, b, c and returns the sum of the numbers that are evenly divided by c from the range a, b inclusive ?\n",
    "#Examples:\n",
    "#evenly_divisible(1, 10, 20) ➞ 0 # No number between 1 and 10 can be evenly divided by 20. \n",
    "#evenly_divisible(1, 10, 2) ➞ 30 # 2 + 4 + 6 + 8 + 10 = 30 evenly_divisible(1, 10, 3) ➞ 18 # 3 + 6 + 9 = 18\n",
    "\n",
    "def evenDivisible(a,b,c):\n",
    "    divList = []\n",
    "    for num in range(a,b+1):\n",
    "        if num%c == 0:\n",
    "            divList.append(num)\n",
    "    print(f'{a,b,c} ➞ {sum(divList)}')\n",
    "\n",
    "evenDivisible(1,10,20)\n",
    "evenDivisible(1,10,2)\n",
    "evenDivisible(1,10,3)"
   ]
  },
  {
   "cell_type": "code",
   "execution_count": 2,
   "id": "a0cd7090-cfd1-434b-ac85-1d7aead2db79",
   "metadata": {},
   "outputs": [
    {
     "name": "stdin",
     "output_type": "stream",
     "text": [
      "Enter the inequality:  3 < 7 < 11\n"
     ]
    },
    {
     "name": "stdout",
     "output_type": "stream",
     "text": [
      "3 < 7 < 11 ➞ True\n"
     ]
    },
    {
     "name": "stdin",
     "output_type": "stream",
     "text": [
      "Enter the inequality:  13 > 44 > 33 > 1\n"
     ]
    },
    {
     "name": "stdout",
     "output_type": "stream",
     "text": [
      "13 > 44 > 33 > 1 ➞ False\n"
     ]
    },
    {
     "name": "stdin",
     "output_type": "stream",
     "text": [
      "Enter the inequality:  1 < 2 < 6 < 9 > 3\n"
     ]
    },
    {
     "name": "stdout",
     "output_type": "stream",
     "text": [
      "1 < 2 < 6 < 9 > 3 ➞ True\n"
     ]
    }
   ],
   "source": [
    "#2. Create a function that returns True if a given inequality expression is correct and False otherwise ?\n",
    "#Examples:\n",
    "#correct_signs(\"3 < 7 < 11\") ➞ True\n",
    "#correct_signs(\"13 > 44 > 33 > 1\") ➞ False\n",
    "#correct_signs(\"1 < 2 < 6 < 9 > 3\") ➞ True\n",
    "\n",
    "def checkEquality():\n",
    "    in_string = input('Enter the inequality: ')\n",
    "    out_bool = eval(in_string)\n",
    "    print(f'{in_string} ➞ {out_bool}')\n",
    "\n",
    "for x in range(3):\n",
    "    checkEquality()"
   ]
  },
  {
   "cell_type": "code",
   "execution_count": 3,
   "id": "d0ebac0e-7b0e-4c75-9387-00bdc1a9bdb7",
   "metadata": {},
   "outputs": [
    {
     "name": "stdin",
     "output_type": "stream",
     "text": [
      "String:  the aardvark\n",
      "Replacement character:  #\n"
     ]
    },
    {
     "name": "stdout",
     "output_type": "stream",
     "text": [
      "the aardvark # ➞ th# ##rdv#rk\n"
     ]
    }
   ],
   "source": [
    "#3. Create a function that replaces all the vowels in a string with a specified character ?\n",
    "#Examples:\n",
    "#replace_vowels(\"the aardvark\", \"#\") ➞ \"th# ##rdv#rk\"\n",
    "#replace_vowels(\"minnie mouse\", \"?\") ➞ \"m?nn?? m??s?\"\n",
    "#replace_vowels(\"shakespeare\", \"*\") ➞ \"shksp**r\"\n",
    "\n",
    "\n",
    "def replaceVowels():\n",
    "    vowels = ['a','e','i','o','u','A','E','I','O','U']\n",
    "    in_string = input(\"String: \")\n",
    "    in_string_copy = in_string\n",
    "    in_char = input('Replacement character: ')\n",
    "    for ele in in_string:\n",
    "        if ele in vowels:\n",
    "            in_string = in_string.replace(ele,in_char)\n",
    "    print(f'{in_string_copy} {in_char} ➞ {in_string}')\n",
    "            \n",
    "\n",
    "replaceVowels()"
   ]
  },
  {
   "cell_type": "code",
   "execution_count": 4,
   "id": "c4ec3c63-3405-4bfa-a468-9ad0eeedb6ab",
   "metadata": {},
   "outputs": [
    {
     "name": "stdout",
     "output_type": "stream",
     "text": [
      "factorial(5) ➞ 120\n",
      "factorial(3) ➞ 6\n",
      "factorial(1) ➞ 1\n",
      "factorial(0) ➞ 1\n"
     ]
    }
   ],
   "source": [
    "#4. Write a function that calculates the factorial of a number recursively ?\n",
    "#Examples:\n",
    "#factorial(5) ➞ 120\n",
    "#factorial(3) ➞ 6\n",
    "#factorial(1) ➞ 1\n",
    "#factorial(0) ➞ 1\n",
    "\n",
    "def factorial(n):\n",
    "    if n==0:\n",
    "        return 1\n",
    "    return n * factorial(n-1)\n",
    "\n",
    "print(f'factorial(5) ➞ {factorial(5)}')\n",
    "print(f'factorial(3) ➞ {factorial(3)}')\n",
    "print(f'factorial(1) ➞ {factorial(1)}')\n",
    "print(f'factorial(0) ➞ {factorial(0)}')"
   ]
  },
  {
   "cell_type": "code",
   "execution_count": null,
   "id": "8f48f884-5892-4875-a194-d17ddc0041b4",
   "metadata": {},
   "outputs": [],
   "source": [
    "#5. Hamming distance is the number of characters that differ between two strings ?\n",
    "#To illustrate:\n",
    "#String1: \"abcbba\"\n",
    "#String2: \"abcbda\"\n",
    "#Hamming Distance: 1 - \"b\" vs. \"d\" is the only difference.\n",
    "#Create a function that computes the hamming distance between two strings.\n",
    "#Examples:\n",
    "#hamming_distance(\"abcde\", \"bcdef\") ➞ 5\n",
    "#hamming_distance(\"abcde\", \"abcde\") ➞ 0\n",
    "#hamming_distance(\"strong\", \"strung\") ➞ 1"
   ]
  },
  {
   "cell_type": "code",
   "execution_count": 5,
   "id": "47786ad0-10fe-4013-87e1-821aeede3719",
   "metadata": {},
   "outputs": [
    {
     "name": "stdin",
     "output_type": "stream",
     "text": [
      "Enter the String_1:  abcde\n",
      "Enter the String_2:  abcde\n"
     ]
    },
    {
     "name": "stdout",
     "output_type": "stream",
     "text": [
      "Hamning Distance b/w abcde and abcde ➞ 0\n"
     ]
    },
    {
     "name": "stdin",
     "output_type": "stream",
     "text": [
      "Enter the String_1:  bcdef\n",
      "Enter the String_2:  abcde\n"
     ]
    },
    {
     "name": "stdout",
     "output_type": "stream",
     "text": [
      "Hamning Distance b/w bcdef and abcde ➞ 5\n"
     ]
    },
    {
     "name": "stdin",
     "output_type": "stream",
     "text": [
      "Enter the String_1:  strong\n",
      "Enter the String_2:  strung\n"
     ]
    },
    {
     "name": "stdout",
     "output_type": "stream",
     "text": [
      "Hamning Distance b/w strong and strung ➞ 1\n"
     ]
    }
   ],
   "source": [
    "def genHamDistance():\n",
    "    in_string_1 = input('Enter the String_1: ')\n",
    "    in_string_2 = input('Enter the String_2: ')\n",
    "    if len(in_string_1) == len(in_string_2):\n",
    "        count = 0\n",
    "        for i in range(len(in_string_1)):\n",
    "            if in_string_1[i] != in_string_2[i]:\n",
    "                count = count+1\n",
    "        print(f'Hamning Distance b/w {in_string_1} and {in_string_2} ➞ {count}')\n",
    "    else:\n",
    "        print('Both Strings Must be of Same Length')\n",
    "\n",
    "for x in range(3):\n",
    "    genHamDistance()"
   ]
  },
  {
   "cell_type": "code",
   "execution_count": null,
   "id": "31cda2f8-262d-4504-b473-efcbe8ee4e93",
   "metadata": {},
   "outputs": [],
   "source": []
  }
 ],
 "metadata": {
  "kernelspec": {
   "display_name": "Python 3 (ipykernel)",
   "language": "python",
   "name": "python3"
  },
  "language_info": {
   "codemirror_mode": {
    "name": "ipython",
    "version": 3
   },
   "file_extension": ".py",
   "mimetype": "text/x-python",
   "name": "python",
   "nbconvert_exporter": "python",
   "pygments_lexer": "ipython3",
   "version": "3.10.6"
  }
 },
 "nbformat": 4,
 "nbformat_minor": 5
}
